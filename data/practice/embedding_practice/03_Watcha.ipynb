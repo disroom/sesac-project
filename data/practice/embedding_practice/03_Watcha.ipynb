{
 "cells": [
  {
   "cell_type": "code",
   "execution_count": null,
   "metadata": {},
   "outputs": [],
   "source": [
    "import pandas as pd\n",
    "import tiktoken\n",
    "import openai\n",
    "from openai import OpenAI\n",
    "from scipy.spatial.distance import cosine\n",
    "import os\n",
    "client = OpenAI()\n",
    "openai.api_key = os.environ[\"OPENAI_API_KEY\"]"
   ]
  },
  {
   "cell_type": "code",
   "execution_count": null,
   "metadata": {},
   "outputs": [],
   "source": [
    "top_movies_df = pd.read_csv('watcha_top_movies.csv')\n",
    "top_movies_df.fillna(\" \", inplace=True)"
   ]
  },
  {
   "cell_type": "code",
   "execution_count": null,
   "metadata": {},
   "outputs": [],
   "source": [
    "def combine_movie_info(row):\n",
    "    title = row['title'].strip()\n",
    "    content = row['plot'].strip()\n",
    "    ratings = str(row['ratings_avg'])[:3]\n",
    "    nations = \", \".join(eval(row['nations'])).strip()\n",
    "    genres = \", \".join(eval(row['genres'])).strip()\n",
    "    \n",
    "    combined = [f\"제목: {title}\", f\"줄거리: {content}\", f\"평점: {ratings}\", f\"제작국가: {nations}\", f\"장르: {genres}\"]\n",
    "    combined = \"\\n\".join(combined)\n",
    "    \n",
    "    return f\"```{combined}```\"\n",
    "\n",
    "top_movies_df[\"combined\"] = top_movies_df.apply(combine_movie_info, axis=1)"
   ]
  },
  {
   "cell_type": "code",
   "execution_count": null,
   "metadata": {},
   "outputs": [],
   "source": [
    "def get_embedding(text, model=\"text-embedding-ada-002\"):\n",
    "   text = text.replace(\"\\n\", \" \")\n",
    "   return client.embeddings.create(input = [text], model=model).data[0].embedding"
   ]
  },
  {
   "cell_type": "code",
   "execution_count": null,
   "metadata": {},
   "outputs": [],
   "source": [
    "top_movies_df[\"embedding\"] = top_movies_df.combined.apply(get_embedding)"
   ]
  },
  {
   "cell_type": "code",
   "execution_count": null,
   "metadata": {},
   "outputs": [],
   "source": [
    "tokenizer = tiktoken.get_encoding(\"cl100k_base\")\n",
    "top_movies_df['n_tokens'] = top_movies_df.combined.apply(lambda x: len(tokenizer.encode(x)))"
   ]
  },
  {
   "cell_type": "code",
   "execution_count": null,
   "metadata": {},
   "outputs": [],
   "source": [
    "top_movies_df['embedding']"
   ]
  },
  {
   "cell_type": "code",
   "execution_count": null,
   "metadata": {},
   "outputs": [],
   "source": [
    "def create_context(\n",
    "    question, df, max_len=3000\n",
    "):\n",
    "    q_embeddings = client.embeddings.create(input=question, model='text-embedding-ada-002').data[0].embedding\n",
    "    df[\"distances\"] = df[\"embedding\"].apply(lambda x: cosine(q_embeddings, x))\n",
    "    returns = []\n",
    "    cur_len = 0\n",
    "    for i, row in df.sort_values('distances', ascending=True).iterrows():\n",
    "        cur_len += row['n_tokens'] + 4\n",
    "        if cur_len > max_len:\n",
    "            break\n",
    "        returns.append(row[\"combined\"])\n",
    "    return \"\\n\\n===\\n\\n\".join(returns)\n",
    "def answer_question(\n",
    "    df,\n",
    "    model=\"gpt-4-32k\",\n",
    "    question=\"스파이더맨 줄거리 얘기해줘.\",\n",
    "    max_len=3000,\n",
    "    debug=False,\n",
    "):\n",
    "    context = create_context(\n",
    "        question,\n",
    "        df,\n",
    "        max_len=max_len,\n",
    "    )\n",
    "    if debug:\n",
    "        print(\"Context:\\n\" + context)\n",
    "        print(\"\\n\\n\")\n",
    "\n",
    "    try:\n",
    "        response = client.chat.completions.create(\n",
    "            model=model,\n",
    "            messages=[\n",
    "                {\"role\": \"system\", \"content\": \"Answer the question based on the context below, and if the question can't be answered based on the context, say \\\"I don't know\\\"\\n\\n\"},\n",
    "                {\"role\": \"user\", \"content\": f\"context: {context}\\n\\n---\\n\\n Question: {question}, 한국어로 대답해줘.\"}\n",
    "            ],\n",
    "            temperature=0.5,\n",
    "        )\n",
    "        return response.choices[0].message.content\n",
    "    except Exception as e:\n",
    "        print(\"Error occurred:\", e)\n",
    "        return \"\"\n"
   ]
  },
  {
   "cell_type": "code",
   "execution_count": null,
   "metadata": {},
   "outputs": [],
   "source": [
    "answer_question(top_movies_df, question=\"펄프픽션 줄거리 얘기해줘.\", debug=True)"
   ]
  },
  {
   "cell_type": "code",
   "execution_count": null,
   "metadata": {},
   "outputs": [],
   "source": [
    "answer_question(top_movies_df, question=\"가장 높은 평점을 가진 영화가 뭐야? \", debug=True)"
   ]
  },
  {
   "cell_type": "code",
   "execution_count": null,
   "metadata": {},
   "outputs": [],
   "source": [
    "answer_question(top_movies_df, question=\"미국에서 제작에 참여한 영화 뭐가 있어?\", debug=True)"
   ]
  },
  {
   "cell_type": "code",
   "execution_count": null,
   "metadata": {},
   "outputs": [],
   "source": [
    "answer_question(top_movies_df, question=\"의사가 나오는 영화 뭐 있어?\", debug=True)"
   ]
  }
 ],
 "metadata": {
  "kernelspec": {
   "display_name": ".venv",
   "language": "python",
   "name": "python3"
  },
  "language_info": {
   "codemirror_mode": {
    "name": "ipython",
    "version": 3
   },
   "file_extension": ".py",
   "mimetype": "text/x-python",
   "name": "python",
   "nbconvert_exporter": "python",
   "pygments_lexer": "ipython3",
   "version": "3.11.5"
  }
 },
 "nbformat": 4,
 "nbformat_minor": 2
}
